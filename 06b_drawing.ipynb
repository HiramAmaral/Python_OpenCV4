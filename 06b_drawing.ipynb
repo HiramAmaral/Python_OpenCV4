{
 "cells": [
  {
   "cell_type": "code",
   "execution_count": 1,
   "metadata": {},
   "outputs": [],
   "source": [
    "import cv2\n",
    "import numpy as np\n",
    "\n",
    "BLUE = (0, 0, 255)\n",
    "BLACK = (0, 0, 0)\n",
    "RED = (255, 0, 0)\n",
    "\n",
    "def showImage(img):\n",
    "    from matplotlib import pyplot as plt\n",
    "    plt.imshow(img)\n",
    "    plt.show()"
   ]
  },
  {
   "cell_type": "code",
   "execution_count": 2,
   "metadata": {},
   "outputs": [],
   "source": [
    "def drawLine(image, startPoint, endPoint, color):\n",
    "  cv2.line(image,\n",
    "        startPoint,\n",
    "        endPoint,\n",
    "        color,\n",
    "        5)"
   ]
  },
  {
   "cell_type": "code",
   "execution_count": 3,
   "metadata": {},
   "outputs": [],
   "source": [
    "def drawRectangleInBoard(image, positionBoardX, positionBoardY, color):\n",
    "    offsetX, offsetY = 55 + positionBoardX * 80, 100 + positionBoardY * 80\n",
    "    cv2.rectangle(image, \n",
    "                  (0 + offsetX, 0 + offsetY), \n",
    "                  (30 + offsetX, 30 + offsetY), \n",
    "                  color,\n",
    "                 -1)"
   ]
  },
  {
   "cell_type": "code",
   "execution_count": 4,
   "metadata": {},
   "outputs": [],
   "source": [
    "def drawTriangleInBoard(image, positionBoardX, positionBoardY, _color):\n",
    "    offsetX, offsetY = 50 + positionBoardX * 80, 90 + positionBoardY * 80\n",
    "    vertices = np.array([(0 + offsetX, 0 + offsetY), (0 + offsetX, 50 + offsetY), (50 + offsetX, 50 + offsetY)], np.int32)\n",
    "    pts = vertices.reshape((-1, 1, 2))\n",
    "\n",
    "    cv2.fillPoly(image,\n",
    "                [pts], \n",
    "                color = _color)"
   ]
  },
  {
   "cell_type": "code",
   "execution_count": 5,
   "metadata": {},
   "outputs": [
    {
     "data": {
      "image/png": "[encoded data removed]",
      "text/plain": [
       "<Figure size 432x288 with 1 Axes>"
      ]
     },
     "metadata": {
      "needs_background": "light"
     },
     "output_type": "display_data"
    }
   ],
   "source": [
    "ticTacToeBoard = np.empty([400, 300, 3], dtype = np.uint8)\n",
    "ticTacToeBoard.fill(255)\n",
    "\n",
    "drawLine(ticTacToeBoard, (100, 100), (100, 300), BLACK)\n",
    "drawLine(ticTacToeBoard, (50, 150), (250, 150), BLACK)\n",
    "drawLine(ticTacToeBoard, (200, 100), (200, 300), BLACK)\n",
    "drawLine(ticTacToeBoard, (50, 250), (250, 250), BLACK)\n",
    "\n",
    "showImage(ticTacToeBoard)"
   ]
  },
  {
   "cell_type": "code",
   "execution_count": 8,
   "metadata": {},
   "outputs": [],
   "source": [
    "def getGameOver(gameBoardPositions):\n",
    "    \n",
    "    #print(gameBoardPositions)\n",
    "    \n",
    "    #linha\n",
    "    if gameBoardPositions[0][0] == gameBoardPositions[1][0] == gameBoardPositions[2][0] and gameBoardPositions[0][0] != 0:\n",
    "        return gameBoardPositions[0][0]\n",
    "    elif gameBoardPositions[0][1] == gameBoardPositions[1][1] == gameBoardPositions[2][1] and gameBoardPositions[0][1] != 0:\n",
    "        return gameBoardPositions[0][1]\n",
    "    elif gameBoardPositions[0][2] == gameBoardPositions[1][2] == gameBoardPositions[2][2] and gameBoardPositions[0][2] != 0:\n",
    "        return gameBoardPositions[0][2]\n",
    "        \n",
    "    #coluna\n",
    "    if gameBoardPositions[0][0] == gameBoardPositions[0][1] == gameBoardPositions[0][2] and gameBoardPositions[0][0] != 0:\n",
    "         return gameBoardPositions[0][0]\n",
    "    elif gameBoardPositions[1][0] == gameBoardPositions[1][1] == gameBoardPositions[1][2] and gameBoardPositions[1][0] != 0:\n",
    "        return gameBoardPositions[1][0]\n",
    "    elif gameBoardPositions[2][0] == gameBoardPositions[2][1] == gameBoardPositions[2][2] and gameBoardPositions[2][0] != 0:\n",
    "        return gameBoardPositions[2][0]\n",
    "        \n",
    "    #diagonal\n",
    "    if gameBoardPositions[0][0] == gameBoardPositions[1][1] == gameBoardPositions[2][2] and gameBoardPositions[0][0] != 0:\n",
    "        return gameBoardPositions[0][0]\n",
    "    elif gameBoardPositions[2][0] == gameBoardPositions[1][1] == gameBoardPositions[0][2] and gameBoardPositions[2][0] != 0:\n",
    "        return gameBoardPositions[2][0]\n",
    "        \n",
    "    #empate\n",
    "    if 0 not in gameBoardPositions[0] and 0 not in gameBoardPositions[1] and 0 not in gameBoardPositions[2]:\n",
    "        return -1\n",
    "        \n",
    "    return 0"
   ]
  },
  {
   "cell_type": "code",
   "execution_count": 9,
   "metadata": {},
   "outputs": [],
   "source": [
    "import random\n",
    "\n",
    "def play():\n",
    "    EMPATE = -1\n",
    "    VITORIA_CPU = 1\n",
    "    VITORIA_JOGADOR = 2\n",
    "\n",
    "    occupiedPositions = [[0, 0, 0],\n",
    "                         [0, 0, 0],\n",
    "                         [0, 0, 0]]\n",
    "    notFinished = True\n",
    "    cpuTurn = True\n",
    "\n",
    "    currentMatch = ticTacToeBoard.copy()\n",
    "    while 1:\n",
    "        #cpu turn\n",
    "        if cpuTurn == True:\n",
    "            randomPosX, randomPosY = random.randint(0, 2), random.randint(0, 2)\n",
    "            while occupiedPositions[randomPosX][randomPosY] != 0:\n",
    "                randomPosX, randomPosY = random.randint(0, 2), random.randint(0, 2)\n",
    "\n",
    "            drawTriangleInBoard(currentMatch, randomPosX, randomPosY, BLUE)\n",
    "            occupiedPositions[randomPosX][randomPosY] = 1\n",
    "\n",
    "            cpuTurn = False\n",
    "        else:\n",
    "            posX = int(input(\"Escolha a posição desejada para x:\"))\n",
    "            posY = int(input(\"Escolha a posição desejada para y:\"))\n",
    "\n",
    "            while occupiedPositions[posX][posY] != 0:\n",
    "                print(\"Esse lugar está ocupado!\")\n",
    "                posX = int(input(\"Escolha a posição desejada para x:\"))\n",
    "                posY = int(input(\"Escolha a posição desejada para y:\"))\n",
    "\n",
    "            drawRectangleInBoard(currentMatch, posX, posY, RED)\n",
    "            occupiedPositions[posX][posY] = 2\n",
    "\n",
    "            cpuTurn = True\n",
    "\n",
    "        showImage(currentMatch)\n",
    "        if getGameOver(occupiedPositions) != 0:\n",
    "            if getGameOver(occupiedPositions) == EMPATE:\n",
    "                print(\"EMPATE!\")\n",
    "            elif getGameOver(occupiedPositions) == VITORIA_CPU:\n",
    "                print(\"VOCÊ PERDEU!\")\n",
    "            elif getGameOver(occupiedPositions) == VITORIA_JOGADOR:\n",
    "                print(\"VOCÊ GANHOU!\")\n",
    "                \n",
    "            return"
   ]
  },
  {
   "cell_type": "code",
   "execution_count": 10,
   "metadata": {},
   "outputs": [
    {
     "data": {
      "image/png": "[encoded data removed]",
      "text/plain": [
       "<Figure size 432x288 with 1 Axes>"
      ]
     },
     "metadata": {
      "needs_background": "light"
     },
     "output_type": "display_data"
    },
    {
     "name": "stdout",
     "output_type": "stream",
     "text": [
      "Escolha a posição desejada para x:1\n",
      "Escolha a posição desejada para y:1\n"
     ]
    },
    {
     "data": {
      "image/png": "[encoded data removed]",
      "text/plain": [
       "<Figure size 432x288 with 1 Axes>"
      ]
     },
     "metadata": {
      "needs_background": "light"
     },
     "output_type": "display_data"
    },
    {
     "data": {
      "image/png": "[encoded data removed]",
      "text/plain": [
       "<Figure size 432x288 with 1 Axes>"
      ]
     },
     "metadata": {
      "needs_background": "light"
     },
     "output_type": "display_data"
    },
    {
     "name": "stdout",
     "output_type": "stream",
     "text": [
      "Escolha a posição desejada para x:0\n",
      "Escolha a posição desejada para y:0\n"
     ]
    },
    {
     "data": {
      "image/png": "[encoded data removed]",
      "text/plain": [
       "<Figure size 432x288 with 1 Axes>"
      ]
     },
     "metadata": {
      "needs_background": "light"
     },
     "output_type": "display_data"
    },
    {
     "data": {
      "image/png": "[encoded data removed]",
      "text/plain": [
       "<Figure size 432x288 with 1 Axes>"
      ]
     },
     "metadata": {
      "needs_background": "light"
     },
     "output_type": "display_data"
    },
    {
     "name": "stdout",
     "output_type": "stream",
     "text": [
      "Escolha a posição desejada para x:0\n",
      "Escolha a posição desejada para y:1\n"
     ]
    },
    {
     "data": {
      "image/png": "[encoded data removed]",
      "text/plain": [
       "<Figure size 432x288 with 1 Axes>"
      ]
     },
     "metadata": {
      "needs_background": "light"
     },
     "output_type": "display_data"
    },
    {
     "data": {
      "image/png": "[encoded data removed]",
      "text/plain": [
       "<Figure size 432x288 with 1 Axes>"
      ]
     },
     "metadata": {
      "needs_background": "light"
     },
     "output_type": "display_data"
    },
    {
     "name": "stdout",
     "output_type": "stream",
     "text": [
      "Escolha a posição desejada para x:2\n",
      "Escolha a posição desejada para y:2\n"
     ]
    },
    {
     "data": {
      "image/png": "[encoded data removed]",
      "text/plain": [
       "<Figure size 432x288 with 1 Axes>"
      ]
     },
     "metadata": {
      "needs_background": "light"
     },
     "output_type": "display_data"
    },
    {
     "name": "stdout",
     "output_type": "stream",
     "text": [
      "VOCÊ GANHOU!\n",
      "Deseja jogar de novo? Digite s para jogar novamente.s\n"
     ]
    },
    {
     "data": {
      "image/png": "[encoded data removed]",
      "text/plain": [
       "<Figure size 432x288 with 1 Axes>"
      ]
     },
     "metadata": {
      "needs_background": "light"
     },
     "output_type": "display_data"
    },
    {
     "name": "stdout",
     "output_type": "stream",
     "text": [
      "Escolha a posição desejada para x:1\n",
      "Escolha a posição desejada para y:1\n"
     ]
    },
    {
     "data": {
      "image/png": "[encoded data removed]",
      "text/plain": [
       "<Figure size 432x288 with 1 Axes>"
      ]
     },
     "metadata": {
      "needs_background": "light"
     },
     "output_type": "display_data"
    },
    {
     "data": {
      "image/png": "[encoded data removed]",
      "text/plain": [
       "<Figure size 432x288 with 1 Axes>"
      ]
     },
     "metadata": {
      "needs_background": "light"
     },
     "output_type": "display_data"
    },
    {
     "name": "stdout",
     "output_type": "stream",
     "text": [
      "Escolha a posição desejada para x:0\n",
      "Escolha a posição desejada para y:2\n"
     ]
    },
    {
     "data": {
      "image/png": "[encoded data removed]",
      "text/plain": [
       "<Figure size 432x288 with 1 Axes>"
      ]
     },
     "metadata": {
      "needs_background": "light"
     },
     "output_type": "display_data"
    },
    {
     "data": {
      "image/png": "[encoded data removed]",
      "text/plain": [
       "<Figure size 432x288 with 1 Axes>"
      ]
     },
     "metadata": {
      "needs_background": "light"
     },
     "output_type": "display_data"
    },
    {
     "name": "stdout",
     "output_type": "stream",
     "text": [
      "Escolha a posição desejada para x:0\n",
      "Escolha a posição desejada para y:1\n"
     ]
    },
    {
     "data": {
      "image/png": "[encoded data removed]",
      "text/plain": [
       "<Figure size 432x288 with 1 Axes>"
      ]
     },
     "metadata": {
      "needs_background": "light"
     },
     "output_type": "display_data"
    },
    {
     "data": {
      "image/png": "[encoded data removed]",
      "text/plain": [
       "<Figure size 432x288 with 1 Axes>"
      ]
     },
     "metadata": {
      "needs_background": "light"
     },
     "output_type": "display_data"
    },
    {
     "name": "stdout",
     "output_type": "stream",
     "text": [
      "VOCÊ PERDEU!\n",
      "Deseja jogar de novo? Digite s para jogar novamente.n\n"
     ]
    }
   ],
   "source": [
    "play()\n",
    "newRound = input(\"Deseja jogar de novo? Digite s para jogar novamente.\")\n",
    "\n",
    "while newRound == 's':\n",
    "    play()\n",
    "    newRound = input(\"Deseja jogar de novo? Digite s para jogar novamente.\")"
   ]
  },
  {
   "cell_type": "code",
   "execution_count": null,
   "metadata": {},
   "outputs": [],
   "source": []
  }
 ],
 "metadata": {
  "kernelspec": {
   "display_name": "Python 3",
   "language": "python",
   "name": "python3"
  },
  "language_info": {
   "codemirror_mode": {
    "name": "ipython",
    "version": 3
   },
   "file_extension": ".py",
   "mimetype": "text/x-python",
   "name": "python",
   "nbconvert_exporter": "python",
   "pygments_lexer": "ipython3",
   "version": "3.7.5"
  }
 },
 "nbformat": 4,
 "nbformat_minor": 4
}
